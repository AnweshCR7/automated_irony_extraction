{
 "cells": [
  {
   "cell_type": "code",
   "execution_count": 3,
   "metadata": {},
   "outputs": [
    {
     "name": "stderr",
     "output_type": "stream",
     "text": [
      "[nltk_data] Downloading package vader_lexicon to\n",
      "[nltk_data]     /Users/anweshcr7/nltk_data...\n",
      "[nltk_data]   Package vader_lexicon is already up-to-date!\n"
     ]
    }
   ],
   "source": [
    "import re\n",
    "import pandas as pd\n",
    "import numpy as np\n",
    "import matplotlib.pyplot as plt \n",
    "import seaborn as sns\n",
    "\n",
    "\n",
    "%matplotlib inline\n",
    "from nltk.corpus import stopwords\n",
    "from nltk.tokenize import word_tokenize\n",
    "from nltk.stem.porter import PorterStemmer\n",
    "from nltk.stem.wordnet import WordNetLemmatizer\n",
    "from nltk.sentiment.vader import SentimentIntensityAnalyzer\n",
    "import nltk\n",
    "nltk.download('vader_lexicon')\n",
    "\n",
    "### Init lists for the analysis\n",
    "\n",
    "HAPPY = set([\n",
    "    ':-)', ':)', ';)', ':o)', ':]', ':3', ':c)', ':>', '=]', '8)', '=)', ':}',\n",
    "    ':^)', ':-D', ':D', '=-D', '=D',\n",
    "    '=-3', '=3', ':-))', \":'-)\", \":')\", ':*', ':^*', '>:P', ':-P', ':P'\n",
    "    , ':-p', ':p', '=p', ':-b', ':b', '>:)', '>;)', '>:-)',\n",
    "    '<3'\n",
    "    ])\n",
    "\n",
    "SAD = set([\n",
    "    ':L', ':-/', '>:/', ':S', '>:[', ':@', ':-(', ':[', ':-||', '=L', ':<',\n",
    "    ':-[', ':-<', '=\\\\', '=/', '>:(', ':(', '>.<', \":'-(\", \":'(\", ':\\\\', ':-c',\n",
    "    ':c', ':{', '>:\\\\', ';('\n",
    "    ])\n",
    "dt = ['not', 'no', 'for', 'and', 'nor', 'but', 'or', 'so',\n",
    "        'while', 'if', 'only', \n",
    "        'until', 'than', \n",
    "         'as', 'after', 'before',\n",
    "        'by', 'now', 'once',\n",
    "        'when', 'because','in',\n",
    "        'why', 'what', 'which', 'who', \n",
    "         'how', 'where','just', 'both', \n",
    "        'with', 'then']\n",
    "\n",
    "conjunctions = ['for', 'and', 'nor', 'but', 'or', 'yet', 'so',\n",
    "        'though', 'although', 'even though', 'while', 'if', 'only if', 'unless',\n",
    "        'until', 'provided that', 'assuming that', 'even if', 'in case', 'than', 'rather than',\n",
    "        'whether', 'as much as', 'whereas', 'after', 'as long as', 'as soon as', 'before',\n",
    "        'by the time', 'now that', 'once', 'since', 'till', 'until',\n",
    "        'when', 'whenever', 'while', 'because', 'since', 'so that', 'in order',\n",
    "        'why', 'that', 'what', 'whatever', 'which', 'whichever', 'who', 'whoever',\n",
    "        'whom', 'whomever', 'whose', 'how', 'as though', 'as if','where', 'wherever',\n",
    "        'also', 'besides', 'furthermore', 'likewise', 'moreover', 'however', 'nevertheless',\n",
    "        'nonetheless', 'still', 'conversely', 'instead', 'otherwise', 'rather', 'accordingly',\n",
    "        'consequently', 'hence', 'meanwhile', 'then', 'therefore', 'thus']\n",
    "\n",
    "NEGATE = {'ain\\'t', 'aren\\'t', 'cannot', 'can\\'t', 'couldn\\'t', 'daren\\'t', 'didn\\'t', 'doesn\\'t',\n",
    " 'ain\\'t', 'aren\\'t', 'cant', 'couldn\\'t', 'daren\\'t', 'didn\\'t', 'doesn\\'t',\n",
    " \"dont\", \"hadnt\", \"hasnt\", \"havent\", \"isnt\", \"mightnt\", \"mustnt\", 'neither',\n",
    " \"don't\", \"hadn't\", \"hasn't\", \"haven't\", \"isn't\", \"mightn't\", \"mustn't\",\n",
    " \"neednt\", \"needn't\", \"never\", \"none\", \"nope\", \"nor\", \"not\", \"nothing\", \"nowhere\",\n",
    " \"oughtnt\", \"shant\", \"shouldnt\", \"uhuh\", \"wasnt\", \"werent\",\n",
    " \"oughtn't\", \"shan't\", \"shouldn't\", \"uh-uh\", \"wasn't\", \"weren't\",\n",
    " \"without\", \"wont\", \"wouldnt\", \"won't\", \"wouldn't\", \"rarely\", \"seldom\", \"despite\",'!'}"
   ]
  },
  {
   "cell_type": "code",
   "execution_count": 28,
   "metadata": {},
   "outputs": [
    {
     "ename": "NameError",
     "evalue": "name 'vader' is not defined",
     "output_type": "error",
     "traceback": [
      "\u001b[0;31m---------------------------------------------------------------------------\u001b[0m",
      "\u001b[0;31mNameError\u001b[0m                                 Traceback (most recent call last)",
      "\u001b[0;32m<ipython-input-28-66b60593b29d>\u001b[0m in \u001b[0;36m<module>\u001b[0;34m\u001b[0m\n\u001b[0;32m----> 1\u001b[0;31m \u001b[0mvader\u001b[0m\u001b[0;34m.\u001b[0m\u001b[0m__version__\u001b[0m\u001b[0;34m\u001b[0m\u001b[0;34m\u001b[0m\u001b[0m\n\u001b[0m",
      "\u001b[0;31mNameError\u001b[0m: name 'vader' is not defined"
     ]
    }
   ],
   "source": []
  },
  {
   "cell_type": "markdown",
   "metadata": {},
   "source": [
    "# Sentiment Model"
   ]
  },
  {
   "cell_type": "code",
   "execution_count": 4,
   "metadata": {},
   "outputs": [],
   "source": [
    "def parse_dataset(fp):\n",
    "    '''\n",
    "    Loads the dataset file with label-tweet on each line and parses the dataset.\n",
    "    :param fp: filepath of dataset\n",
    "    :return:\n",
    "        corpus: list of tweet strings of each tweet.\n",
    "        y: list of labels\n",
    "    '''\n",
    "    y = []\n",
    "    corpus = []\n",
    "    with open(fp, 'rt') as data_in:\n",
    "        for line in data_in:\n",
    "            if not line.lower().startswith(\"tweet index\"): # discard first line if it contains metadata\n",
    "                line = line.rstrip() # remove trailing whitespace\n",
    "                label = int(line.split(\"\\t\")[1])\n",
    "                tweet = line.split(\"\\t\")[2]\n",
    "                y.append(label)\n",
    "                corpus.append(tweet)\n",
    "\n",
    "    return corpus, y\n",
    "\n"
   ]
  },
  {
   "cell_type": "code",
   "execution_count": 5,
   "metadata": {},
   "outputs": [
    {
     "data": {
      "text/html": [
       "<div>\n",
       "<style scoped>\n",
       "    .dataframe tbody tr th:only-of-type {\n",
       "        vertical-align: middle;\n",
       "    }\n",
       "\n",
       "    .dataframe tbody tr th {\n",
       "        vertical-align: top;\n",
       "    }\n",
       "\n",
       "    .dataframe thead th {\n",
       "        text-align: right;\n",
       "    }\n",
       "</style>\n",
       "<table border=\"1\" class=\"dataframe\">\n",
       "  <thead>\n",
       "    <tr style=\"text-align: right;\">\n",
       "      <th></th>\n",
       "      <th>tweet</th>\n",
       "      <th>label</th>\n",
       "    </tr>\n",
       "  </thead>\n",
       "  <tbody>\n",
       "    <tr>\n",
       "      <td>0</td>\n",
       "      <td>Sweet United Nations video. Just in time for C...</td>\n",
       "      <td>1</td>\n",
       "    </tr>\n",
       "    <tr>\n",
       "      <td>1</td>\n",
       "      <td>@mrdahl87 We are rumored to have talked to Erv...</td>\n",
       "      <td>1</td>\n",
       "    </tr>\n",
       "    <tr>\n",
       "      <td>2</td>\n",
       "      <td>Hey there! Nice to see you Minnesota/ND Winter...</td>\n",
       "      <td>1</td>\n",
       "    </tr>\n",
       "    <tr>\n",
       "      <td>3</td>\n",
       "      <td>3 episodes left I'm dying over here</td>\n",
       "      <td>0</td>\n",
       "    </tr>\n",
       "    <tr>\n",
       "      <td>4</td>\n",
       "      <td>\"I can't breathe!\" was chosen as the most nota...</td>\n",
       "      <td>1</td>\n",
       "    </tr>\n",
       "  </tbody>\n",
       "</table>\n",
       "</div>"
      ],
      "text/plain": [
       "                                               tweet  label\n",
       "0  Sweet United Nations video. Just in time for C...      1\n",
       "1  @mrdahl87 We are rumored to have talked to Erv...      1\n",
       "2  Hey there! Nice to see you Minnesota/ND Winter...      1\n",
       "3                3 episodes left I'm dying over here      0\n",
       "4  \"I can't breathe!\" was chosen as the most nota...      1"
      ]
     },
     "execution_count": 5,
     "metadata": {},
     "output_type": "execute_result"
    }
   ],
   "source": [
    "### Train Data\n",
    "\n",
    "data, y_label = parse_dataset('SemEval2018-T3-train-taskA_emoji.txt')\n",
    "data_df = pd.DataFrame(np.array(data).reshape(3834,1), columns = ['tweet'])\n",
    "data_df['label'] = np.array(y_label).reshape(3834,1)\n",
    "data_df.head()\n"
   ]
  },
  {
   "cell_type": "code",
   "execution_count": 6,
   "metadata": {},
   "outputs": [
    {
     "name": "stdout",
     "output_type": "stream",
     "text": [
      "<class 'pandas.core.frame.DataFrame'>\n",
      "RangeIndex: 784 entries, 0 to 783\n",
      "Data columns (total 2 columns):\n",
      "tweet    784 non-null object\n",
      "label    784 non-null int64\n",
      "dtypes: int64(1), object(1)\n",
      "memory usage: 12.4+ KB\n"
     ]
    }
   ],
   "source": [
    "### Test Data\n",
    "\n",
    "# Test the model\n",
    "test_data, test_label = parse_dataset('SemEval2018-T3_gold_test_taskA_emoji.txt')\n",
    "test_df = pd.DataFrame(np.array(test_data).reshape(784,1), columns = ['tweet'])\n",
    "test_df['label'] = np.array(test_label).reshape(784,1)\n",
    "test_df.info()"
   ]
  },
  {
   "cell_type": "markdown",
   "metadata": {},
   "source": [
    "## Model Functions"
   ]
  },
  {
   "cell_type": "code",
   "execution_count": 7,
   "metadata": {},
   "outputs": [],
   "source": [
    "from sklearn import svm \n",
    "from sklearn import metrics\n",
    "from sklearn.model_selection import GridSearchCV\n",
    "\n",
    "def svc_param_selection(X, y, nfolds):\n",
    "    Cs = [0.001, 0.01, 0.1, 1, 10]\n",
    "    gammas = [0.001, 0.01, 0.1, 1]\n",
    "    param_grid = {'C': Cs, 'gamma' : gammas}\n",
    "    grid_search = GridSearchCV(svm.SVC(kernel='rbf'), param_grid, cv=nfolds)\n",
    "    grid_search.fit(X, y)\n",
    "    grid_search.best_params_\n",
    "    return grid_search.best_params_"
   ]
  },
  {
   "cell_type": "code",
   "execution_count": 9,
   "metadata": {},
   "outputs": [],
   "source": [
    "from sklearn.metrics import confusion_matrix\n",
    "\n",
    "def plotCM(cm):\n",
    "    ax = plt.subplot()\n",
    "    sns.heatmap(cm, annot=True, ax = ax, fmt=\"d\"); #annot=True to annotate cells\n",
    "\n",
    "    # labels, title and ticks\n",
    "    ax.set_xlabel('Predicted labels')\n",
    "    ax.set_ylabel('True labels')\n",
    "    ax.set_title('Confusion Matrix')"
   ]
  },
  {
   "cell_type": "markdown",
   "metadata": {},
   "source": [
    "## Define the sentiment extraction function"
   ]
  },
  {
   "cell_type": "code",
   "execution_count": 10,
   "metadata": {},
   "outputs": [],
   "source": [
    "def sentimentAnalysis(sentencePart, feature):\n",
    "\n",
    "    \n",
    "    sia = SentimentIntensityAnalyzer()\n",
    "    tweet_len = len(sentencePart.split(' '))\n",
    "\n",
    "    pos_word_list=[]\n",
    "    neu_word_list=[]\n",
    "    neg_word_list=[]\n",
    "    highest_pos = float('-inf')\n",
    "    lowest_neg = float('inf')\n",
    "    emoji=[]\n",
    "    negate_flag = False\n",
    "    total_polarity = 0\n",
    "\n",
    "#     threshold = -0.3 -> 0.3\n",
    "    for word in sentencePart.split(' '):\n",
    "        hashtag_flag = False\n",
    "\n",
    "#         do some preprocessing\n",
    "        if(word.startswith('#')):\n",
    "            hashtag_flag = True\n",
    "            word = word.replace('#', '')\n",
    "        \n",
    "        comp_polarity = sia.polarity_scores(word)['compound']\n",
    "        if(hashtag_flag):\n",
    "            comp_polarity = 1.2 * comp_polarity\n",
    "        if(negate_flag):\n",
    "            comp_polarity = -(comp_polarity)\n",
    "        total_polarity += comp_polarity\n",
    "        \n",
    "#         if word = 'not' implies negate flag till punctuation\n",
    "#         if (word in NEGATE):\n",
    "#             negate_flag = True\n",
    "            \n",
    "#         if(word in string.punctuation):\n",
    "#             negate_flag = False\n",
    "            \n",
    "        if (comp_polarity) >= 0.3 or word in HAPPY:\n",
    "            if(comp_polarity > highest_pos):\n",
    "                highest_pos = comp_polarity\n",
    "            pos_word_list.append(word)\n",
    "        \n",
    "        elif (comp_polarity) <= -0.3 or word in NEGATE or word in SAD:\n",
    "            if(comp_polarity < lowest_neg):\n",
    "                lowest_neg = comp_polarity\n",
    "            neg_word_list.append(word)\n",
    "        else:\n",
    "            neu_word_list.append(word)\n",
    "    \n",
    "    if(feature == 'avg'):\n",
    "        return [len(pos_word_list)/tweet_len, len(neu_word_list)/tweet_len, len(neg_word_list)/tweet_len]\n",
    "    if(feature == 'overall'):\n",
    "        return total_polarity/tweet_len\n",
    "    if(feature == 'diff'):\n",
    "        diff = highest_pos - lowest_neg\n",
    "        if(diff == float('-inf') or diff == float('inf')):\n",
    "            return 0\n",
    "        else:\n",
    "            return diff\n",
    "        return highest_pos - lowest_neg\n",
    "    if(feature == 'inversion'):\n",
    "        return len(pos_word_list) and len(neg_word_list)\n",
    "    "
   ]
  },
  {
   "cell_type": "code",
   "execution_count": 11,
   "metadata": {},
   "outputs": [
    {
     "data": {
      "text/plain": [
       "[0.0, 1.0, 0.0]"
      ]
     },
     "execution_count": 11,
     "metadata": {},
     "output_type": "execute_result"
    }
   ],
   "source": [
    "data_df['tweet'][3]\n",
    "sentimentAnalysis('3 episodes left Im dying over here', feature = 'avg')"
   ]
  },
  {
   "cell_type": "markdown",
   "metadata": {},
   "source": [
    "### Feature Extract"
   ]
  },
  {
   "cell_type": "code",
   "execution_count": 12,
   "metadata": {},
   "outputs": [],
   "source": [
    "def syntactic_feature_extract(og_df):\n",
    "    df = og_df.copy()\n",
    "    df[['positive_avg','neutral_avg', 'negative_avg']] = df['tweet'].apply(lambda x: pd.Series(sentimentAnalysis(x, feature = 'avg')))\n",
    "    df['overall'] = df['tweet'].apply(lambda x: sentimentAnalysis(x, feature = 'overall'))\n",
    "    df['diff'] = df['tweet'].apply(lambda x: sentimentAnalysis(x, feature = 'diff'))\n",
    "    df['inversion'] = df['tweet'].apply(lambda x: sentimentAnalysis(x, feature = 'inversion'))\n",
    "\n",
    "    return df.drop(['tweet'], axis=1)"
   ]
  },
  {
   "cell_type": "code",
   "execution_count": 13,
   "metadata": {},
   "outputs": [
    {
     "data": {
      "text/html": [
       "<div>\n",
       "<style scoped>\n",
       "    .dataframe tbody tr th:only-of-type {\n",
       "        vertical-align: middle;\n",
       "    }\n",
       "\n",
       "    .dataframe tbody tr th {\n",
       "        vertical-align: top;\n",
       "    }\n",
       "\n",
       "    .dataframe thead th {\n",
       "        text-align: right;\n",
       "    }\n",
       "</style>\n",
       "<table border=\"1\" class=\"dataframe\">\n",
       "  <thead>\n",
       "    <tr style=\"text-align: right;\">\n",
       "      <th></th>\n",
       "      <th>label</th>\n",
       "      <th>positive_avg</th>\n",
       "      <th>neutral_avg</th>\n",
       "      <th>negative_avg</th>\n",
       "      <th>overall</th>\n",
       "      <th>diff</th>\n",
       "      <th>inversion</th>\n",
       "    </tr>\n",
       "  </thead>\n",
       "  <tbody>\n",
       "    <tr>\n",
       "      <td>0</td>\n",
       "      <td>1</td>\n",
       "      <td>0.153846</td>\n",
       "      <td>0.846154</td>\n",
       "      <td>0.000000</td>\n",
       "      <td>0.067715</td>\n",
       "      <td>0.0000</td>\n",
       "      <td>0</td>\n",
       "    </tr>\n",
       "    <tr>\n",
       "      <td>1</td>\n",
       "      <td>1</td>\n",
       "      <td>0.041667</td>\n",
       "      <td>0.916667</td>\n",
       "      <td>0.041667</td>\n",
       "      <td>0.009429</td>\n",
       "      <td>0.2263</td>\n",
       "      <td>1</td>\n",
       "    </tr>\n",
       "    <tr>\n",
       "      <td>2</td>\n",
       "      <td>1</td>\n",
       "      <td>0.111111</td>\n",
       "      <td>0.888889</td>\n",
       "      <td>0.000000</td>\n",
       "      <td>0.046833</td>\n",
       "      <td>0.0000</td>\n",
       "      <td>0</td>\n",
       "    </tr>\n",
       "    <tr>\n",
       "      <td>3</td>\n",
       "      <td>0</td>\n",
       "      <td>0.000000</td>\n",
       "      <td>1.000000</td>\n",
       "      <td>0.000000</td>\n",
       "      <td>0.000000</td>\n",
       "      <td>0.0000</td>\n",
       "      <td>0</td>\n",
       "    </tr>\n",
       "    <tr>\n",
       "      <td>4</td>\n",
       "      <td>1</td>\n",
       "      <td>0.000000</td>\n",
       "      <td>0.956522</td>\n",
       "      <td>0.043478</td>\n",
       "      <td>0.000000</td>\n",
       "      <td>0.0000</td>\n",
       "      <td>0</td>\n",
       "    </tr>\n",
       "    <tr>\n",
       "      <td>...</td>\n",
       "      <td>...</td>\n",
       "      <td>...</td>\n",
       "      <td>...</td>\n",
       "      <td>...</td>\n",
       "      <td>...</td>\n",
       "      <td>...</td>\n",
       "      <td>...</td>\n",
       "    </tr>\n",
       "    <tr>\n",
       "      <td>3829</td>\n",
       "      <td>0</td>\n",
       "      <td>0.000000</td>\n",
       "      <td>1.000000</td>\n",
       "      <td>0.000000</td>\n",
       "      <td>0.000000</td>\n",
       "      <td>0.0000</td>\n",
       "      <td>0</td>\n",
       "    </tr>\n",
       "    <tr>\n",
       "      <td>3830</td>\n",
       "      <td>0</td>\n",
       "      <td>0.000000</td>\n",
       "      <td>1.000000</td>\n",
       "      <td>0.000000</td>\n",
       "      <td>-0.016858</td>\n",
       "      <td>0.0000</td>\n",
       "      <td>0</td>\n",
       "    </tr>\n",
       "    <tr>\n",
       "      <td>3831</td>\n",
       "      <td>0</td>\n",
       "      <td>0.000000</td>\n",
       "      <td>1.000000</td>\n",
       "      <td>0.000000</td>\n",
       "      <td>0.014379</td>\n",
       "      <td>0.0000</td>\n",
       "      <td>0</td>\n",
       "    </tr>\n",
       "    <tr>\n",
       "      <td>3832</td>\n",
       "      <td>0</td>\n",
       "      <td>0.055556</td>\n",
       "      <td>0.944444</td>\n",
       "      <td>0.000000</td>\n",
       "      <td>0.017678</td>\n",
       "      <td>0.0000</td>\n",
       "      <td>0</td>\n",
       "    </tr>\n",
       "    <tr>\n",
       "      <td>3833</td>\n",
       "      <td>0</td>\n",
       "      <td>0.000000</td>\n",
       "      <td>1.000000</td>\n",
       "      <td>0.000000</td>\n",
       "      <td>-0.010419</td>\n",
       "      <td>0.0000</td>\n",
       "      <td>0</td>\n",
       "    </tr>\n",
       "  </tbody>\n",
       "</table>\n",
       "<p>3834 rows × 7 columns</p>\n",
       "</div>"
      ],
      "text/plain": [
       "      label  positive_avg  neutral_avg  negative_avg   overall    diff  \\\n",
       "0         1      0.153846     0.846154      0.000000  0.067715  0.0000   \n",
       "1         1      0.041667     0.916667      0.041667  0.009429  0.2263   \n",
       "2         1      0.111111     0.888889      0.000000  0.046833  0.0000   \n",
       "3         0      0.000000     1.000000      0.000000  0.000000  0.0000   \n",
       "4         1      0.000000     0.956522      0.043478  0.000000  0.0000   \n",
       "...     ...           ...          ...           ...       ...     ...   \n",
       "3829      0      0.000000     1.000000      0.000000  0.000000  0.0000   \n",
       "3830      0      0.000000     1.000000      0.000000 -0.016858  0.0000   \n",
       "3831      0      0.000000     1.000000      0.000000  0.014379  0.0000   \n",
       "3832      0      0.055556     0.944444      0.000000  0.017678  0.0000   \n",
       "3833      0      0.000000     1.000000      0.000000 -0.010419  0.0000   \n",
       "\n",
       "      inversion  \n",
       "0             0  \n",
       "1             1  \n",
       "2             0  \n",
       "3             0  \n",
       "4             0  \n",
       "...         ...  \n",
       "3829          0  \n",
       "3830          0  \n",
       "3831          0  \n",
       "3832          0  \n",
       "3833          0  \n",
       "\n",
       "[3834 rows x 7 columns]"
      ]
     },
     "execution_count": 13,
     "metadata": {},
     "output_type": "execute_result"
    }
   ],
   "source": [
    "syntactic_df = syntactic_feature_extract(data_df)\n",
    "syntactic_df"
   ]
  },
  {
   "cell_type": "code",
   "execution_count": 14,
   "metadata": {},
   "outputs": [],
   "source": [
    "y_train = syntactic_df['label']\n",
    "syntactic_df = syntactic_df.drop(['label'], axis=1)\n",
    "\n",
    "test_syntactic_df = syntactic_feature_extract(test_df)\n",
    "y_test = test_syntactic_df['label']\n",
    "test_syntactic_df = test_syntactic_df.drop(['label'], axis = 1)"
   ]
  },
  {
   "cell_type": "markdown",
   "metadata": {},
   "source": [
    "## Random Forest for feature selection"
   ]
  },
  {
   "cell_type": "code",
   "execution_count": 15,
   "metadata": {},
   "outputs": [
    {
     "name": "stdout",
     "output_type": "stream",
     "text": [
      "CROSS VALIDATION\n",
      "Score: [0.55844156 0.55989583 0.55989583 0.56396867 0.56657963 0.56396867\n",
      " 0.58746736 0.57963446 0.54046997 0.53785901]\n",
      "Mean: 0.5618181005787076\n",
      "std: 0.014338066389785341\n"
     ]
    }
   ],
   "source": [
    "# cross-validation on train\n",
    "from sklearn.ensemble import RandomForestClassifier\n",
    "\n",
    "from sklearn.model_selection import cross_val_score\n",
    "\n",
    "# Example of cross-validation\n",
    "rf = RandomForestClassifier(n_estimators=10)\n",
    "\n",
    "score = cross_val_score(rf, syntactic_df, y_train, cv=10, scoring = \"accuracy\")\n",
    "print('CROSS VALIDATION')\n",
    "print(\"Score:\", score)\n",
    "print(\"Mean:\", score.mean())\n",
    "print(\"std:\", score.std())"
   ]
  },
  {
   "cell_type": "code",
   "execution_count": 16,
   "metadata": {},
   "outputs": [
    {
     "name": "stdout",
     "output_type": "stream",
     "text": [
      "              precision    recall  f1-score   support\n",
      "\n",
      "           0       0.64      0.62      0.63       473\n",
      "           1       0.45      0.47      0.46       311\n",
      "\n",
      "    accuracy                           0.56       784\n",
      "   macro avg       0.54      0.54      0.54       784\n",
      "weighted avg       0.56      0.56      0.56       784\n",
      "\n"
     ]
    }
   ],
   "source": [
    "rf.fit(syntactic_df, y_train)\n",
    "y_pred = rf.predict(test_syntactic_df)\n",
    "print(metrics.classification_report(y_test, y_pred))"
   ]
  },
  {
   "cell_type": "code",
   "execution_count": 17,
   "metadata": {},
   "outputs": [
    {
     "name": "stdout",
     "output_type": "stream",
     "text": [
      "('positive_avg', 0.10046899499266952)\n",
      "('neutral_avg', 0.1091643741176495)\n",
      "('negative_avg', 0.06194144350726708)\n",
      "('overall', 0.6346505309889992)\n",
      "('diff', 0.08330580845962243)\n",
      "('inversion', 0.010468847933792403)\n"
     ]
    }
   ],
   "source": [
    "feat_labels = list(syntactic_df)\n",
    "for feature in zip(feat_labels, rf.feature_importances_):\n",
    "    print(feature)"
   ]
  },
  {
   "cell_type": "markdown",
   "metadata": {},
   "source": [
    "## SVM"
   ]
  },
  {
   "cell_type": "code",
   "execution_count": 18,
   "metadata": {},
   "outputs": [
    {
     "data": {
      "text/plain": [
       "{'C': 1, 'gamma': 1}"
      ]
     },
     "execution_count": 18,
     "metadata": {},
     "output_type": "execute_result"
    }
   ],
   "source": [
    "svc_param_selection(syntactic_df, y_train, 5)"
   ]
  },
  {
   "cell_type": "code",
   "execution_count": 27,
   "metadata": {},
   "outputs": [
    {
     "name": "stdout",
     "output_type": "stream",
     "text": [
      "0.6224489795918368\n",
      "              precision    recall  f1-score   support\n",
      "\n",
      "           0     0.6448    0.8330    0.7269       473\n",
      "           1     0.5434    0.3023    0.3884       311\n",
      "\n",
      "    accuracy                         0.6224       784\n",
      "   macro avg     0.5941    0.5676    0.5577       784\n",
      "weighted avg     0.6046    0.6224    0.5927       784\n",
      "\n"
     ]
    }
   ],
   "source": [
    "clf = svm.SVC(C=1, gamma = 0.01, kernel = 'rbf')\n",
    "clf.fit(syntactic_df, y_train)\n",
    "y_pred = clf.predict(test_syntactic_df)\n",
    "print(metrics.accuracy_score(y_test, y_pred))\n",
    "print(metrics.classification_report(y_test, y_pred, digits=4))"
   ]
  },
  {
   "cell_type": "code",
   "execution_count": 20,
   "metadata": {},
   "outputs": [
    {
     "data": {
      "image/png": "[encoded data removed]",
      "text/plain": [
       "<Figure size 432x288 with 2 Axes>"
      ]
     },
     "metadata": {
      "needs_background": "light"
     },
     "output_type": "display_data"
    }
   ],
   "source": [
    "svm_cm = confusion_matrix(y_test, y_pred)\n",
    "plotCM(svm_cm)"
   ]
  },
  {
   "cell_type": "code",
   "execution_count": null,
   "metadata": {},
   "outputs": [],
   "source": []
  },
  {
   "cell_type": "code",
   "execution_count": null,
   "metadata": {},
   "outputs": [],
   "source": []
  },
  {
   "cell_type": "code",
   "execution_count": null,
   "metadata": {},
   "outputs": [],
   "source": []
  }
 ],
 "metadata": {
  "kernelspec": {
   "display_name": "Python 3",
   "language": "python",
   "name": "python3"
  },
  "language_info": {
   "codemirror_mode": {
    "name": "ipython",
    "version": 3
   },
   "file_extension": ".py",
   "mimetype": "text/x-python",
   "name": "python",
   "nbconvert_exporter": "python",
   "pygments_lexer": "ipython3",
   "version": "3.7.4"
  }
 },
 "nbformat": 4,
 "nbformat_minor": 2
}
