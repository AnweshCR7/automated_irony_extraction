{
 "cells": [
  {
   "cell_type": "code",
   "execution_count": 1,
   "metadata": {
    "scrolled": true
   },
   "outputs": [
    {
     "name": "stdout",
     "output_type": "stream",
     "text": [
      "\u001b[33mDownloading emoji data ...\u001b[0m\n",
      "\u001b[92m... OK\u001b[0m (Got response in 0.30 seconds)\n",
      "\u001b[33mWriting emoji data to /Users/Liuzhaoyu/.demoji/codes.json ...\u001b[0m\n",
      "\u001b[92m... OK\u001b[0m\n"
     ]
    }
   ],
   "source": [
    "import numpy as np\n",
    "import pandas as pd\n",
    "from nltk.tokenize import word_tokenize\n",
    "import matplotlib.pyplot as plt \n",
    "import re\n",
    "import demoji\n",
    "demoji.download_codes()\n",
    "import nltk\n",
    "from nltk.corpus import stopwords\n",
    "from wordcloud import WordCloud,STOPWORDS\n",
    "import seaborn as sns"
   ]
  },
  {
   "cell_type": "code",
   "execution_count": 2,
   "metadata": {},
   "outputs": [],
   "source": [
    "# some additional imports\n",
    "# from autocorrect import speller\n",
    "stopwordsList = stopwords.words('english')\n",
    "# ended up lemmatizing instead of stemming\n",
    "from nltk.stem import PorterStemmer\n",
    "st = PorterStemmer()\n",
    "from nltk.stem import WordNetLemmatizer\n",
    "wordnet_lemmatizer = WordNetLemmatizer()"
   ]
  },
  {
   "cell_type": "code",
   "execution_count": 3,
   "metadata": {},
   "outputs": [],
   "source": [
    "def parse_dataset(fp):\n",
    "    '''\n",
    "    Loads the dataset file with label-tweet on each line and parses the dataset.\n",
    "    :param fp: filepath of dataset\n",
    "    :return:\n",
    "        corpus: list of tweet strings of each tweet.\n",
    "        y: list of labels\n",
    "    '''\n",
    "    y = []\n",
    "    corpus = []\n",
    "    with open(fp, 'rt') as data_in:\n",
    "        for line in data_in:\n",
    "            if not line.lower().startswith(\"tweet index\"): # discard first line if it contains metadata\n",
    "                line = line.rstrip() # remove trailing whitespace\n",
    "                label = int(line.split(\"\\t\")[1])\n",
    "                tweet = line.split(\"\\t\")[2]\n",
    "                y.append(label)\n",
    "                corpus.append(tweet)\n",
    "\n",
    "    return corpus, y"
   ]
  },
  {
   "cell_type": "code",
   "execution_count": 4,
   "metadata": {},
   "outputs": [
    {
     "data": {
      "text/html": [
       "<div>\n",
       "<style scoped>\n",
       "    .dataframe tbody tr th:only-of-type {\n",
       "        vertical-align: middle;\n",
       "    }\n",
       "\n",
       "    .dataframe tbody tr th {\n",
       "        vertical-align: top;\n",
       "    }\n",
       "\n",
       "    .dataframe thead th {\n",
       "        text-align: right;\n",
       "    }\n",
       "</style>\n",
       "<table border=\"1\" class=\"dataframe\">\n",
       "  <thead>\n",
       "    <tr style=\"text-align: right;\">\n",
       "      <th></th>\n",
       "      <th>tweet</th>\n",
       "      <th>label</th>\n",
       "    </tr>\n",
       "  </thead>\n",
       "  <tbody>\n",
       "    <tr>\n",
       "      <th>0</th>\n",
       "      <td>Sweet United Nations video. Just in time for C...</td>\n",
       "      <td>1</td>\n",
       "    </tr>\n",
       "    <tr>\n",
       "      <th>1</th>\n",
       "      <td>@mrdahl87 We are rumored to have talked to Erv...</td>\n",
       "      <td>1</td>\n",
       "    </tr>\n",
       "    <tr>\n",
       "      <th>2</th>\n",
       "      <td>Hey there! Nice to see you Minnesota/ND Winter...</td>\n",
       "      <td>1</td>\n",
       "    </tr>\n",
       "    <tr>\n",
       "      <th>3</th>\n",
       "      <td>3 episodes left I'm dying over here</td>\n",
       "      <td>0</td>\n",
       "    </tr>\n",
       "    <tr>\n",
       "      <th>4</th>\n",
       "      <td>\"I can't breathe!\" was chosen as the most nota...</td>\n",
       "      <td>1</td>\n",
       "    </tr>\n",
       "  </tbody>\n",
       "</table>\n",
       "</div>"
      ],
      "text/plain": [
       "                                               tweet  label\n",
       "0  Sweet United Nations video. Just in time for C...      1\n",
       "1  @mrdahl87 We are rumored to have talked to Erv...      1\n",
       "2  Hey there! Nice to see you Minnesota/ND Winter...      1\n",
       "3                3 episodes left I'm dying over here      0\n",
       "4  \"I can't breathe!\" was chosen as the most nota...      1"
      ]
     },
     "execution_count": 4,
     "metadata": {},
     "output_type": "execute_result"
    }
   ],
   "source": [
    "# training data\n",
    "train_data, train_label = parse_dataset('datasets/train/SemEval2018-T3-train-taskA_emoji.txt')\n",
    "df_train = pd.DataFrame(np.array(train_data).reshape(3834,1), columns = ['tweet'])\n",
    "df_train['label'] = np.array(train_label).reshape(3834,1)\n",
    "df_train.head()"
   ]
  },
  {
   "cell_type": "code",
   "execution_count": 5,
   "metadata": {
    "scrolled": true
   },
   "outputs": [
    {
     "data": {
      "text/html": [
       "<div>\n",
       "<style scoped>\n",
       "    .dataframe tbody tr th:only-of-type {\n",
       "        vertical-align: middle;\n",
       "    }\n",
       "\n",
       "    .dataframe tbody tr th {\n",
       "        vertical-align: top;\n",
       "    }\n",
       "\n",
       "    .dataframe thead th {\n",
       "        text-align: right;\n",
       "    }\n",
       "</style>\n",
       "<table border=\"1\" class=\"dataframe\">\n",
       "  <thead>\n",
       "    <tr style=\"text-align: right;\">\n",
       "      <th></th>\n",
       "      <th>tweet</th>\n",
       "      <th>label</th>\n",
       "    </tr>\n",
       "  </thead>\n",
       "  <tbody>\n",
       "    <tr>\n",
       "      <th>0</th>\n",
       "      <td>@Callisto1947 Can U Help?||More conservatives ...</td>\n",
       "      <td>0</td>\n",
       "    </tr>\n",
       "    <tr>\n",
       "      <th>1</th>\n",
       "      <td>Just walked in to #Starbucks and asked for a \"...</td>\n",
       "      <td>1</td>\n",
       "    </tr>\n",
       "    <tr>\n",
       "      <th>2</th>\n",
       "      <td>#NOT GONNA WIN http://t.co/Mc9ebqjAqj</td>\n",
       "      <td>0</td>\n",
       "    </tr>\n",
       "    <tr>\n",
       "      <th>3</th>\n",
       "      <td>@mickymantell He is exactly that sort of perso...</td>\n",
       "      <td>0</td>\n",
       "    </tr>\n",
       "    <tr>\n",
       "      <th>4</th>\n",
       "      <td>So much #sarcasm at work mate 10/10 #boring 10...</td>\n",
       "      <td>1</td>\n",
       "    </tr>\n",
       "  </tbody>\n",
       "</table>\n",
       "</div>"
      ],
      "text/plain": [
       "                                               tweet  label\n",
       "0  @Callisto1947 Can U Help?||More conservatives ...      0\n",
       "1  Just walked in to #Starbucks and asked for a \"...      1\n",
       "2              #NOT GONNA WIN http://t.co/Mc9ebqjAqj      0\n",
       "3  @mickymantell He is exactly that sort of perso...      0\n",
       "4  So much #sarcasm at work mate 10/10 #boring 10...      1"
      ]
     },
     "execution_count": 5,
     "metadata": {},
     "output_type": "execute_result"
    }
   ],
   "source": [
    "# testing data\n",
    "test_data, test_label = parse_dataset('datasets/goldtest_TaskA/SemEval2018-T3_gold_test_taskA_emoji.txt')\n",
    "df_test = pd.DataFrame(np.array(test_data).reshape(784,1), columns = ['tweet'])\n",
    "df_test['label'] = np.array(test_label).reshape(784,1)\n",
    "df_test.head()"
   ]
  },
  {
   "cell_type": "markdown",
   "metadata": {
    "colab_type": "text",
    "id": "n_eazAUaoc4e"
   },
   "source": [
    "# Project Preperation"
   ]
  },
  {
   "cell_type": "markdown",
   "metadata": {
    "colab_type": "text",
    "id": "9h9ib5NpUapx"
   },
   "source": [
    "## Setup project"
   ]
  },
  {
   "cell_type": "code",
   "execution_count": 6,
   "metadata": {
    "colab": {},
    "colab_type": "code",
    "id": "OtRe6re-UiFd"
   },
   "outputs": [],
   "source": [
    "import numpy as np \n",
    "import pandas as pd \n",
    "import re\n",
    "import nltk \n",
    "import matplotlib.pyplot as plt\n",
    "%matplotlib inline"
   ]
  },
  {
   "cell_type": "markdown",
   "metadata": {
    "colab_type": "text",
    "id": "gKOH2YI0UPs5"
   },
   "source": [
    "## Clean and augment data"
   ]
  },
  {
   "cell_type": "code",
   "execution_count": 7,
   "metadata": {
    "colab": {},
    "colab_type": "code",
    "id": "RWIq7xsJjDXC"
   },
   "outputs": [],
   "source": [
    "# Get users' texts as well as corresponding sentiments\n",
    "texts_train = df_train.iloc[:, 0].values\n",
    "texts_test = df_test.iloc[:, 0].values\n",
    "sentiments_train = df_train.iloc[:, 1].values\n",
    "sentiments_test = df_test.iloc[:, 1].values"
   ]
  },
  {
   "cell_type": "code",
   "execution_count": 8,
   "metadata": {},
   "outputs": [],
   "source": [
    "# Clean texts\n",
    "clean_texts_train = []\n",
    "clean_texts_test = []\n",
    "for text in texts_train:\n",
    "    # remove all special characters\n",
    "    clean_text = re.sub(r'\\W', ' ', str(text))\n",
    "    # remove all single character\n",
    "    clean_text = re.sub(r'\\s+[a-zA-Z]\\s+', ' ', clean_text)\n",
    "    # replace multiple spaces to single space\n",
    "    clean_text = re.sub(r'\\s+', ' ', clean_text, flags=re.I)\n",
    "    # to lower case\n",
    "    clean_text = clean_text.lower()\n",
    "    clean_texts_train.append(clean_text)\n",
    "    \n",
    "for text in texts_test:\n",
    "    # remove all special characters\n",
    "    clean_text = re.sub(r'\\W', ' ', str(text))\n",
    "    # remove all single character\n",
    "    clean_text = re.sub(r'\\s+[a-zA-Z]\\s+', ' ', clean_text)\n",
    "    # replace multiple spaces to single space\n",
    "    clean_text = re.sub(r'\\s+', ' ', clean_text, flags=re.I)\n",
    "    # to lower case\n",
    "    clean_text = clean_text.lower()\n",
    "    clean_texts_test.append(clean_text)"
   ]
  },
  {
   "cell_type": "code",
   "execution_count": 9,
   "metadata": {},
   "outputs": [],
   "source": [
    "# Combine positive and neutral\n",
    "clean_sentiments_train = []\n",
    "clean_sentiments_test = []\n",
    "for sentiment in sentiments_train:\n",
    "    if sentiment == \"positive\" or sentiment == \"neutral\":\n",
    "        clean_sentiment = \"non-negative\"\n",
    "    else:\n",
    "        clean_sentiment = sentiment\n",
    "    clean_sentiments_train.append(clean_sentiment)\n",
    "    \n",
    "for sentiment in sentiments_test:\n",
    "    if sentiment == \"positive\" or sentiment == \"neutral\":\n",
    "        clean_sentiment = \"non-negative\"\n",
    "    else:\n",
    "        clean_sentiment = sentiment\n",
    "    clean_sentiments_test.append(clean_sentiment)"
   ]
  },
  {
   "cell_type": "markdown",
   "metadata": {
    "colab_type": "text",
    "id": "ZC57Kgj-XTIr"
   },
   "source": [
    "# Modelling"
   ]
  },
  {
   "cell_type": "markdown",
   "metadata": {
    "colab_type": "text",
    "id": "sATZqo_gXhbt"
   },
   "source": [
    "## Build the base model"
   ]
  },
  {
   "cell_type": "code",
   "execution_count": 10,
   "metadata": {},
   "outputs": [],
   "source": [
    "# Split into training and testing data\n",
    "X_train = clean_texts_train\n",
    "X_test = clean_texts_test\n",
    "y_train = clean_sentiments_train\n",
    "y_test = clean_sentiments_test"
   ]
  },
  {
   "cell_type": "markdown",
   "metadata": {
    "colab_type": "text",
    "id": "GLbT1085X90J"
   },
   "source": [
    "## Evaluation metrics"
   ]
  },
  {
   "cell_type": "markdown",
   "metadata": {
    "colab_type": "text",
    "id": "L_VdlLSvY5lm"
   },
   "source": [
    "## Build the model and train on the data set"
   ]
  },
  {
   "cell_type": "code",
   "execution_count": 11,
   "metadata": {
    "scrolled": true
   },
   "outputs": [],
   "source": [
    "words_train = [w for w in X_train if not w in stopwords.words(\"english\")]\n",
    "words_test = [w for w in X_test if not w in stopwords.words(\"english\")]"
   ]
  },
  {
   "cell_type": "code",
   "execution_count": 12,
   "metadata": {},
   "outputs": [],
   "source": [
    "import logging\n",
    "logging.basicConfig(format='%(asctime)s : %(levelname)s : %(message)s', level=logging.INFO)"
   ]
  },
  {
   "cell_type": "code",
   "execution_count": 13,
   "metadata": {},
   "outputs": [],
   "source": [
    "# Set values for various parameters\n",
    "num_features = 1000   # Word vector dimensionality                      \n",
    "min_word_count = 40   # Minimum word count                        \n",
    "num_workers = 4       # Number of threads to run in parallel\n",
    "context = 10          # Context window size                                                                                    \n",
    "downsampling = 1e-4   # Downsample setting for frequent words"
   ]
  },
  {
   "cell_type": "code",
   "execution_count": 14,
   "metadata": {},
   "outputs": [
    {
     "name": "stderr",
     "output_type": "stream",
     "text": [
      "2020-03-03 12:48:12,886 : INFO : collecting all words and their counts\n",
      "2020-03-03 12:48:12,887 : WARNING : Each 'sentences' item should be a list of words (usually unicode strings). First item here is instead plain <class 'str'>.\n",
      "2020-03-03 12:48:12,888 : INFO : PROGRESS: at sentence #0, processed 0 words, keeping 0 word types\n",
      "2020-03-03 12:48:12,922 : INFO : collected 66 word types from a corpus of 308795 raw words and 3834 sentences\n",
      "2020-03-03 12:48:12,923 : INFO : Loading a fresh vocabulary\n",
      "2020-03-03 12:48:12,923 : INFO : effective_min_count=40 retains 38 unique words (57% of original 66, drops 28)\n",
      "2020-03-03 12:48:12,924 : INFO : effective_min_count=40 leaves 308761 word corpus (99% of original 308795, drops 34)\n",
      "2020-03-03 12:48:12,925 : INFO : deleting the raw counts dictionary of 66 items\n",
      "2020-03-03 12:48:12,926 : INFO : sample=0.0001 downsamples 38 most-common words\n",
      "2020-03-03 12:48:12,927 : INFO : downsampling leaves estimated 16781 word corpus (5.4% of prior 308761)\n",
      "2020-03-03 12:48:12,927 : INFO : estimated required memory for 38 words and 1000 dimensions: 323000 bytes\n",
      "2020-03-03 12:48:12,928 : INFO : resetting layer weights\n",
      "2020-03-03 12:48:12,930 : INFO : training model with 4 workers on 38 vocabulary and 1000 features, using sg=0 hs=0 sample=0.0001 negative=5 window=10\n",
      "2020-03-03 12:48:12,983 : INFO : worker thread finished; awaiting finish of 3 more threads\n",
      "2020-03-03 12:48:12,984 : INFO : worker thread finished; awaiting finish of 2 more threads\n",
      "2020-03-03 12:48:12,985 : INFO : worker thread finished; awaiting finish of 1 more threads\n",
      "2020-03-03 12:48:12,986 : INFO : worker thread finished; awaiting finish of 0 more threads\n",
      "2020-03-03 12:48:12,986 : INFO : EPOCH - 1 : training on 308795 raw words (16606 effective words) took 0.1s, 315097 effective words/s\n",
      "2020-03-03 12:48:13,037 : INFO : worker thread finished; awaiting finish of 3 more threads\n",
      "2020-03-03 12:48:13,040 : INFO : worker thread finished; awaiting finish of 2 more threads\n",
      "2020-03-03 12:48:13,041 : INFO : worker thread finished; awaiting finish of 1 more threads\n",
      "2020-03-03 12:48:13,042 : INFO : worker thread finished; awaiting finish of 0 more threads\n",
      "2020-03-03 12:48:13,042 : INFO : EPOCH - 2 : training on 308795 raw words (16785 effective words) took 0.1s, 316558 effective words/s\n",
      "2020-03-03 12:48:13,096 : INFO : worker thread finished; awaiting finish of 3 more threads\n",
      "2020-03-03 12:48:13,097 : INFO : worker thread finished; awaiting finish of 2 more threads\n",
      "2020-03-03 12:48:13,098 : INFO : worker thread finished; awaiting finish of 1 more threads\n",
      "2020-03-03 12:48:13,099 : INFO : worker thread finished; awaiting finish of 0 more threads\n",
      "2020-03-03 12:48:13,099 : INFO : EPOCH - 3 : training on 308795 raw words (16866 effective words) took 0.1s, 314703 effective words/s\n",
      "2020-03-03 12:48:13,156 : INFO : worker thread finished; awaiting finish of 3 more threads\n",
      "2020-03-03 12:48:13,157 : INFO : worker thread finished; awaiting finish of 2 more threads\n",
      "2020-03-03 12:48:13,159 : INFO : worker thread finished; awaiting finish of 1 more threads\n",
      "2020-03-03 12:48:13,159 : INFO : worker thread finished; awaiting finish of 0 more threads\n",
      "2020-03-03 12:48:13,160 : INFO : EPOCH - 4 : training on 308795 raw words (16718 effective words) took 0.1s, 291088 effective words/s\n",
      "2020-03-03 12:48:13,210 : INFO : worker thread finished; awaiting finish of 3 more threads\n",
      "2020-03-03 12:48:13,212 : INFO : worker thread finished; awaiting finish of 2 more threads\n",
      "2020-03-03 12:48:13,213 : INFO : worker thread finished; awaiting finish of 1 more threads\n",
      "2020-03-03 12:48:13,213 : INFO : worker thread finished; awaiting finish of 0 more threads\n",
      "2020-03-03 12:48:13,214 : INFO : EPOCH - 5 : training on 308795 raw words (16792 effective words) took 0.1s, 328405 effective words/s\n",
      "2020-03-03 12:48:13,215 : INFO : training on a 1543975 raw words (83767 effective words) took 0.3s, 294881 effective words/s\n",
      "2020-03-03 12:48:13,216 : INFO : saving Word2Vec object under sentiment_tweet, separately None\n",
      "2020-03-03 12:48:13,216 : INFO : not storing attribute vectors_norm\n",
      "2020-03-03 12:48:13,217 : INFO : not storing attribute cum_table\n",
      "2020-03-03 12:48:13,221 : INFO : saved sentiment_tweet\n"
     ]
    }
   ],
   "source": [
    "# Apply word2vec to train the model\n",
    "from gensim.models import word2vec\n",
    "\n",
    "model = word2vec.Word2Vec(words_train, workers=num_workers, size=num_features, \n",
    "                          min_count = min_word_count, window = context, \n",
    "                          sample = downsampling)\n",
    "model_name = \"sentiment_tweet\"\n",
    "model.save(model_name)"
   ]
  },
  {
   "cell_type": "code",
   "execution_count": 15,
   "metadata": {},
   "outputs": [],
   "source": [
    "# Function to average all word vectors in a paragraph\n",
    "def featureVecMethod(words, model, num_features):\n",
    "    # Pre-initialising empty numpy array for speed\n",
    "    featureVec = np.zeros(num_features,dtype=\"float32\")\n",
    "    nwords = 0\n",
    "    \n",
    "    #Converting Index2Word which is a list to a set for better speed in the execution.\n",
    "    index2word_set = set(model.wv.index2word)\n",
    "    \n",
    "    for word in  words:\n",
    "        if word in index2word_set:\n",
    "            nwords = nwords + 1\n",
    "            featureVec = np.add(featureVec,model[word])\n",
    "    \n",
    "    # Dividing the result by number of words to get average\n",
    "    featureVec = np.divide(featureVec, nwords)\n",
    "    return featureVec"
   ]
  },
  {
   "cell_type": "code",
   "execution_count": 16,
   "metadata": {},
   "outputs": [],
   "source": [
    "# Function for calculating the average feature vector\n",
    "def getAvgFeatureVecs(reviews, model, num_features):\n",
    "    counter = 0\n",
    "    reviewFeatureVecs = np.zeros((len(reviews),num_features),dtype=\"float32\")\n",
    "    for review in reviews:\n",
    "        # Printing a status message every 1000th review\n",
    "        if counter%1000 == 0:\n",
    "            print(\"Review %d of %d\"%(counter,len(reviews)))\n",
    "            \n",
    "        reviewFeatureVecs[counter] = featureVecMethod(review, model, num_features)\n",
    "        counter = counter+1\n",
    "        \n",
    "    return reviewFeatureVecs"
   ]
  },
  {
   "cell_type": "code",
   "execution_count": 17,
   "metadata": {
    "scrolled": true
   },
   "outputs": [
    {
     "name": "stderr",
     "output_type": "stream",
     "text": [
      "//anaconda3/lib/python3.7/site-packages/ipykernel_launcher.py:13: DeprecationWarning: Call to deprecated `__getitem__` (Method will be removed in 4.0.0, use self.wv.__getitem__() instead).\n",
      "  del sys.path[0]\n"
     ]
    },
    {
     "name": "stdout",
     "output_type": "stream",
     "text": [
      "Review 0 of 3834\n",
      "Review 1000 of 3834\n",
      "Review 2000 of 3834\n",
      "Review 3000 of 3834\n",
      "Review 0 of 784\n"
     ]
    }
   ],
   "source": [
    "trainDataVecs=getAvgFeatureVecs(words_train, model, num_features)\n",
    "testDataVecs=getAvgFeatureVecs(words_test, model, num_features)"
   ]
  },
  {
   "cell_type": "code",
   "execution_count": 18,
   "metadata": {},
   "outputs": [
    {
     "ename": "NameError",
     "evalue": "name 'RandomForestClassifier' is not defined",
     "output_type": "error",
     "traceback": [
      "\u001b[0;31m---------------------------------------------------------------------------\u001b[0m",
      "\u001b[0;31mNameError\u001b[0m                                 Traceback (most recent call last)",
      "\u001b[0;32m<ipython-input-18-9adeaf037faa>\u001b[0m in \u001b[0;36m<module>\u001b[0;34m\u001b[0m\n\u001b[0;32m----> 1\u001b[0;31m \u001b[0mforest\u001b[0m \u001b[0;34m=\u001b[0m \u001b[0mRandomForestClassifier\u001b[0m\u001b[0;34m(\u001b[0m\u001b[0mn_estimators\u001b[0m\u001b[0;34m=\u001b[0m\u001b[0;36m100\u001b[0m\u001b[0;34m)\u001b[0m\u001b[0;34m\u001b[0m\u001b[0;34m\u001b[0m\u001b[0m\n\u001b[0m\u001b[1;32m      2\u001b[0m \u001b[0mforest\u001b[0m\u001b[0;34m.\u001b[0m\u001b[0mfit\u001b[0m\u001b[0;34m(\u001b[0m\u001b[0mtrainDataVecs\u001b[0m\u001b[0;34m,\u001b[0m \u001b[0my_train\u001b[0m\u001b[0;34m)\u001b[0m\u001b[0;34m\u001b[0m\u001b[0;34m\u001b[0m\u001b[0m\n",
      "\u001b[0;31mNameError\u001b[0m: name 'RandomForestClassifier' is not defined"
     ]
    }
   ],
   "source": [
    "forest = RandomForestClassifier(n_estimators=100)\n",
    "forest.fit(trainDataVecs, y_train)"
   ]
  },
  {
   "cell_type": "markdown",
   "metadata": {
    "colab_type": "text",
    "id": "bMFA8xOXgRJ1"
   },
   "source": [
    "## Evaluation metrics"
   ]
  },
  {
   "cell_type": "code",
   "execution_count": null,
   "metadata": {
    "colab": {},
    "colab_type": "code",
    "id": "SD-jt7gzgXIh",
    "scrolled": false
   },
   "outputs": [],
   "source": [
    "from sklearn.metrics import classification_report, confusion_matrix, accuracy_score\n",
    "\n",
    "pred = forest.predict(testDataVecs)\n",
    "print(classification_report(y_test,pred))\n",
    "print(\"Accuracy:\", accuracy_score(y_test, pred))"
   ]
  },
  {
   "cell_type": "code",
   "execution_count": null,
   "metadata": {},
   "outputs": [],
   "source": []
  }
 ],
 "metadata": {
  "colab": {
   "name": "_Konigle_Challenge_NLP_Project.ipynb",
   "provenance": [],
   "toc_visible": true
  },
  "kernelspec": {
   "display_name": "Python 3",
   "language": "python",
   "name": "python3"
  },
  "language_info": {
   "codemirror_mode": {
    "name": "ipython",
    "version": 3
   },
   "file_extension": ".py",
   "mimetype": "text/x-python",
   "name": "python",
   "nbconvert_exporter": "python",
   "pygments_lexer": "ipython3",
   "version": "3.7.4"
  }
 },
 "nbformat": 4,
 "nbformat_minor": 1
}
