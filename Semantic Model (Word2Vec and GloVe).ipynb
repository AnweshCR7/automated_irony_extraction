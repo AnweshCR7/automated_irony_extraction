{
 "cells": [
  {
   "cell_type": "code",
   "execution_count": 1,
   "metadata": {
    "scrolled": true
   },
   "outputs": [
    {
     "name": "stdout",
     "output_type": "stream",
     "text": [
      "\u001b[33mDownloading emoji data ...\u001b[0m\n",
      "\u001b[92m... OK\u001b[0m (Got response in 3.10 seconds)\n",
      "\u001b[33mWriting emoji data to /Users/anweshcr7/.demoji/codes.json ...\u001b[0m\n",
      "\u001b[92m... OK\u001b[0m\n"
     ]
    }
   ],
   "source": [
    "import numpy as np\n",
    "import pandas as pd\n",
    "from nltk.tokenize import word_tokenize\n",
    "import matplotlib.pyplot as plt \n",
    "import re\n",
    "import demoji\n",
    "demoji.download_codes()\n",
    "import nltk\n",
    "from nltk.corpus import stopwords\n",
    "from wordcloud import WordCloud,STOPWORDS\n",
    "import seaborn as sns"
   ]
  },
  {
   "cell_type": "code",
   "execution_count": 65,
   "metadata": {},
   "outputs": [],
   "source": [
    "# conda install gensim"
   ]
  },
  {
   "cell_type": "code",
   "execution_count": 2,
   "metadata": {},
   "outputs": [],
   "source": [
    "# some additional imports\n",
    "# from autocorrect import speller\n",
    "stopwordsList = stopwords.words('english')\n",
    "# ended up lemmatizing instead of stemming\n",
    "from nltk.stem import PorterStemmer\n",
    "st = PorterStemmer()\n",
    "from nltk.stem import WordNetLemmatizer\n",
    "wordnet_lemmatizer = WordNetLemmatizer()"
   ]
  },
  {
   "cell_type": "code",
   "execution_count": 3,
   "metadata": {},
   "outputs": [],
   "source": [
    "def parse_dataset(fp):\n",
    "    '''\n",
    "    Loads the dataset file with label-tweet on each line and parses the dataset.\n",
    "    :param fp: filepath of dataset\n",
    "    :return:\n",
    "        corpus: list of tweet strings of each tweet.\n",
    "        y: list of labels\n",
    "    '''\n",
    "    y = []\n",
    "    corpus = []\n",
    "    with open(fp, 'rt') as data_in:\n",
    "        for line in data_in:\n",
    "            if not line.lower().startswith(\"tweet index\"): # discard first line if it contains metadata\n",
    "                line = line.rstrip() # remove trailing whitespace\n",
    "                label = int(line.split(\"\\t\")[1])\n",
    "                tweet = line.split(\"\\t\")[2]\n",
    "                y.append(label)\n",
    "                corpus.append(tweet)\n",
    "\n",
    "    return corpus, y"
   ]
  },
  {
   "cell_type": "code",
   "execution_count": 5,
   "metadata": {},
   "outputs": [
    {
     "data": {
      "text/html": [
       "<div>\n",
       "<style scoped>\n",
       "    .dataframe tbody tr th:only-of-type {\n",
       "        vertical-align: middle;\n",
       "    }\n",
       "\n",
       "    .dataframe tbody tr th {\n",
       "        vertical-align: top;\n",
       "    }\n",
       "\n",
       "    .dataframe thead th {\n",
       "        text-align: right;\n",
       "    }\n",
       "</style>\n",
       "<table border=\"1\" class=\"dataframe\">\n",
       "  <thead>\n",
       "    <tr style=\"text-align: right;\">\n",
       "      <th></th>\n",
       "      <th>tweet</th>\n",
       "      <th>label</th>\n",
       "    </tr>\n",
       "  </thead>\n",
       "  <tbody>\n",
       "    <tr>\n",
       "      <td>0</td>\n",
       "      <td>Sweet United Nations video. Just in time for C...</td>\n",
       "      <td>1</td>\n",
       "    </tr>\n",
       "    <tr>\n",
       "      <td>1</td>\n",
       "      <td>@mrdahl87 We are rumored to have talked to Erv...</td>\n",
       "      <td>1</td>\n",
       "    </tr>\n",
       "    <tr>\n",
       "      <td>2</td>\n",
       "      <td>Hey there! Nice to see you Minnesota/ND Winter...</td>\n",
       "      <td>1</td>\n",
       "    </tr>\n",
       "    <tr>\n",
       "      <td>3</td>\n",
       "      <td>3 episodes left I'm dying over here</td>\n",
       "      <td>0</td>\n",
       "    </tr>\n",
       "    <tr>\n",
       "      <td>4</td>\n",
       "      <td>\"I can't breathe!\" was chosen as the most nota...</td>\n",
       "      <td>1</td>\n",
       "    </tr>\n",
       "  </tbody>\n",
       "</table>\n",
       "</div>"
      ],
      "text/plain": [
       "                                               tweet  label\n",
       "0  Sweet United Nations video. Just in time for C...      1\n",
       "1  @mrdahl87 We are rumored to have talked to Erv...      1\n",
       "2  Hey there! Nice to see you Minnesota/ND Winter...      1\n",
       "3                3 episodes left I'm dying over here      0\n",
       "4  \"I can't breathe!\" was chosen as the most nota...      1"
      ]
     },
     "execution_count": 5,
     "metadata": {},
     "output_type": "execute_result"
    }
   ],
   "source": [
    "# training data\n",
    "train_data, train_label = parse_dataset('SemEval2018-T3-train-taskA_emoji.txt')\n",
    "df_train = pd.DataFrame(np.array(train_data).reshape(3834,1), columns = ['tweet'])\n",
    "df_train['label'] = np.array(train_label).reshape(3834,1)\n",
    "df_train.head()"
   ]
  },
  {
   "cell_type": "code",
   "execution_count": 6,
   "metadata": {
    "scrolled": false
   },
   "outputs": [
    {
     "data": {
      "text/html": [
       "<div>\n",
       "<style scoped>\n",
       "    .dataframe tbody tr th:only-of-type {\n",
       "        vertical-align: middle;\n",
       "    }\n",
       "\n",
       "    .dataframe tbody tr th {\n",
       "        vertical-align: top;\n",
       "    }\n",
       "\n",
       "    .dataframe thead th {\n",
       "        text-align: right;\n",
       "    }\n",
       "</style>\n",
       "<table border=\"1\" class=\"dataframe\">\n",
       "  <thead>\n",
       "    <tr style=\"text-align: right;\">\n",
       "      <th></th>\n",
       "      <th>tweet</th>\n",
       "      <th>label</th>\n",
       "    </tr>\n",
       "  </thead>\n",
       "  <tbody>\n",
       "    <tr>\n",
       "      <td>0</td>\n",
       "      <td>@Callisto1947 Can U Help?||More conservatives ...</td>\n",
       "      <td>0</td>\n",
       "    </tr>\n",
       "    <tr>\n",
       "      <td>1</td>\n",
       "      <td>Just walked in to #Starbucks and asked for a \"...</td>\n",
       "      <td>1</td>\n",
       "    </tr>\n",
       "    <tr>\n",
       "      <td>2</td>\n",
       "      <td>#NOT GONNA WIN http://t.co/Mc9ebqjAqj</td>\n",
       "      <td>0</td>\n",
       "    </tr>\n",
       "    <tr>\n",
       "      <td>3</td>\n",
       "      <td>@mickymantell He is exactly that sort of perso...</td>\n",
       "      <td>0</td>\n",
       "    </tr>\n",
       "    <tr>\n",
       "      <td>4</td>\n",
       "      <td>So much #sarcasm at work mate 10/10 #boring 10...</td>\n",
       "      <td>1</td>\n",
       "    </tr>\n",
       "  </tbody>\n",
       "</table>\n",
       "</div>"
      ],
      "text/plain": [
       "                                               tweet  label\n",
       "0  @Callisto1947 Can U Help?||More conservatives ...      0\n",
       "1  Just walked in to #Starbucks and asked for a \"...      1\n",
       "2              #NOT GONNA WIN http://t.co/Mc9ebqjAqj      0\n",
       "3  @mickymantell He is exactly that sort of perso...      0\n",
       "4  So much #sarcasm at work mate 10/10 #boring 10...      1"
      ]
     },
     "execution_count": 6,
     "metadata": {},
     "output_type": "execute_result"
    }
   ],
   "source": [
    "# testing data\n",
    "test_data, test_label = parse_dataset('SemEval2018-T3_gold_test_taskA_emoji.txt')\n",
    "df_test = pd.DataFrame(np.array(test_data).reshape(784,1), columns = ['tweet'])\n",
    "df_test['label'] = np.array(test_label).reshape(784,1)\n",
    "df_test.head()"
   ]
  },
  {
   "cell_type": "markdown",
   "metadata": {
    "colab_type": "text",
    "id": "n_eazAUaoc4e"
   },
   "source": [
    "# Project Preperation"
   ]
  },
  {
   "cell_type": "markdown",
   "metadata": {
    "colab_type": "text",
    "id": "9h9ib5NpUapx"
   },
   "source": [
    "## Setup project"
   ]
  },
  {
   "cell_type": "code",
   "execution_count": 7,
   "metadata": {
    "colab": {},
    "colab_type": "code",
    "id": "OtRe6re-UiFd"
   },
   "outputs": [],
   "source": [
    "import numpy as np \n",
    "import pandas as pd \n",
    "import re\n",
    "import nltk \n",
    "import matplotlib.pyplot as plt\n",
    "%matplotlib inline"
   ]
  },
  {
   "cell_type": "markdown",
   "metadata": {
    "colab_type": "text",
    "id": "gKOH2YI0UPs5"
   },
   "source": [
    "## Clean and augment data"
   ]
  },
  {
   "cell_type": "code",
   "execution_count": 16,
   "metadata": {
    "colab": {},
    "colab_type": "code",
    "id": "RWIq7xsJjDXC"
   },
   "outputs": [],
   "source": [
    "# Get users' texts as well as corresponding sentiments\n",
    "texts_train = df_train.iloc[:, 0].values\n",
    "texts_test = df_test.iloc[:, 0].values\n",
    "labels_train = df_train.iloc[:, 1].values\n",
    "labels_test = df_test.iloc[:, 1].values"
   ]
  },
  {
   "cell_type": "code",
   "execution_count": 17,
   "metadata": {},
   "outputs": [],
   "source": [
    "# Clean texts\n",
    "clean_texts_train = []\n",
    "clean_texts_test = []\n",
    "for text in texts_train:\n",
    "    # remove all special characters\n",
    "    clean_text = re.sub(r'\\W', ' ', str(text))\n",
    "    # remove all single character\n",
    "    clean_text = re.sub(r'\\s+[a-zA-Z]\\s+', ' ', clean_text)\n",
    "    # replace multiple spaces to single space\n",
    "    clean_text = re.sub(r'\\s+', ' ', clean_text, flags=re.I)\n",
    "    # to lower case\n",
    "    clean_text = clean_text.lower()\n",
    "    clean_texts_train.append(clean_text)\n",
    "    \n",
    "for text in texts_test:\n",
    "    # remove all special characters\n",
    "    clean_text = re.sub(r'\\W', ' ', str(text))\n",
    "    # remove all single character\n",
    "    clean_text = re.sub(r'\\s+[a-zA-Z]\\s+', ' ', clean_text)\n",
    "    # replace multiple spaces to single space\n",
    "    clean_text = re.sub(r'\\s+', ' ', clean_text, flags=re.I)\n",
    "    # to lower case\n",
    "    clean_text = clean_text.lower()\n",
    "    clean_texts_test.append(clean_text)"
   ]
  },
  {
   "cell_type": "code",
   "execution_count": 18,
   "metadata": {},
   "outputs": [],
   "source": [
    "# Combine positive and neutral\n",
    "clean_sentiments_train = []\n",
    "clean_sentiments_test = []\n",
    "for label in labels_train:\n",
    "    if label == \"positive\" or label == \"neutral\":\n",
    "        clean_sentiment = \"non-negative\"\n",
    "    else:\n",
    "        clean_sentiment = label\n",
    "    clean_sentiments_train.append(clean_sentiment)\n",
    "    \n",
    "for label in labels_test:\n",
    "    if label == \"positive\" or label == \"neutral\":\n",
    "        clean_sentiment = \"non-negative\"\n",
    "    else:\n",
    "        clean_sentiment = label\n",
    "    clean_sentiments_test.append(clean_sentiment)"
   ]
  },
  {
   "cell_type": "code",
   "execution_count": 66,
   "metadata": {},
   "outputs": [],
   "source": [
    "# np.sum(clean_sentiments_train != labels_train)"
   ]
  },
  {
   "cell_type": "markdown",
   "metadata": {
    "colab_type": "text",
    "id": "ZC57Kgj-XTIr"
   },
   "source": [
    "# Modelling"
   ]
  },
  {
   "cell_type": "markdown",
   "metadata": {
    "colab_type": "text",
    "id": "sATZqo_gXhbt"
   },
   "source": [
    "## Build the base model"
   ]
  },
  {
   "cell_type": "code",
   "execution_count": 48,
   "metadata": {},
   "outputs": [],
   "source": [
    "# Split into training and testing data\n",
    "X_train = clean_texts_train\n",
    "X_test = clean_texts_test\n",
    "y_train = labels_train\n",
    "y_test = labels_test"
   ]
  },
  {
   "cell_type": "markdown",
   "metadata": {
    "colab_type": "text",
    "id": "GLbT1085X90J"
   },
   "source": [
    "## Evaluation metrics"
   ]
  },
  {
   "cell_type": "markdown",
   "metadata": {
    "colab_type": "text",
    "id": "L_VdlLSvY5lm"
   },
   "source": [
    "## Build the model and train on the data set"
   ]
  },
  {
   "cell_type": "code",
   "execution_count": 31,
   "metadata": {
    "scrolled": true
   },
   "outputs": [],
   "source": [
    "words_train = [w for w in X_train if not w in stopwords.words(\"english\")]\n",
    "words_test = [w for w in X_test if not w in stopwords.words(\"english\")]"
   ]
  },
  {
   "cell_type": "markdown",
   "metadata": {},
   "source": [
    "### GloVe Model using external 1.4G Twitter embedding 100 Dim"
   ]
  },
  {
   "cell_type": "code",
   "execution_count": 41,
   "metadata": {},
   "outputs": [
    {
     "name": "stderr",
     "output_type": "stream",
     "text": [
      "2020-03-09 11:48:02,162 : INFO : converting 1193517 vectors from glove.twitter.27B.100d.txt to gensim_glove_vectors.txt\n"
     ]
    },
    {
     "data": {
      "text/plain": [
       "(1193517, 100)"
      ]
     },
     "execution_count": 41,
     "metadata": {},
     "output_type": "execute_result"
    }
   ],
   "source": [
    "from gensim.scripts.glove2word2vec import glove2word2vec\n",
    "glove2word2vec(glove_input_file=\"glove.twitter.27B.100d.txt\", word2vec_output_file=\"gensim_glove_vectors.txt\")"
   ]
  },
  {
   "cell_type": "code",
   "execution_count": 42,
   "metadata": {},
   "outputs": [
    {
     "name": "stderr",
     "output_type": "stream",
     "text": [
      "2020-03-09 11:48:22,779 : INFO : loading projection weights from gensim_glove_vectors.txt\n",
      "2020-03-09 11:50:05,751 : WARNING : duplicate word '<unk>' in gensim_glove_vectors.txt, ignoring all but first\n",
      "2020-03-09 11:50:05,752 : WARNING : duplicate word '<unk>' in gensim_glove_vectors.txt, ignoring all but first\n",
      "2020-03-09 11:50:05,752 : INFO : duplicate words detected, shrinking matrix size from 1193517 to 1193515\n",
      "2020-03-09 11:50:05,753 : INFO : loaded (1193515, 100) matrix from gensim_glove_vectors.txt\n"
     ]
    }
   ],
   "source": [
    "from gensim.models.keyedvectors import KeyedVectors\n",
    "glove_model = KeyedVectors.load_word2vec_format(\"gensim_glove_vectors.txt\", binary=False)"
   ]
  },
  {
   "cell_type": "code",
   "execution_count": 32,
   "metadata": {},
   "outputs": [],
   "source": [
    "import logging\n",
    "logging.basicConfig(format='%(asctime)s : %(levelname)s : %(message)s', level=logging.INFO)"
   ]
  },
  {
   "cell_type": "markdown",
   "metadata": {},
   "source": [
    "## Word2Vec model parameters"
   ]
  },
  {
   "cell_type": "code",
   "execution_count": 33,
   "metadata": {},
   "outputs": [],
   "source": [
    "# Set values for various parameters\n",
    "num_features = 1000   # Word vector dimensionality                      \n",
    "min_word_count = 40   # Minimum word count                        \n",
    "num_workers = 4       # Number of threads to run in parallel\n",
    "context = 10          # Context window size                                                                                    \n",
    "downsampling = 1e-4   # Downsample setting for frequent words"
   ]
  },
  {
   "cell_type": "markdown",
   "metadata": {},
   "source": [
    "### Training word2vec using tokenised training data"
   ]
  },
  {
   "cell_type": "code",
   "execution_count": 67,
   "metadata": {},
   "outputs": [
    {
     "name": "stderr",
     "output_type": "stream",
     "text": [
      "2020-03-11 11:33:45,472 : INFO : collecting all words and their counts\n",
      "2020-03-11 11:33:45,487 : WARNING : Each 'sentences' item should be a list of words (usually unicode strings). First item here is instead plain <class 'str'>.\n",
      "2020-03-11 11:33:45,490 : INFO : PROGRESS: at sentence #0, processed 0 words, keeping 0 word types\n",
      "2020-03-11 11:33:45,528 : INFO : collected 66 word types from a corpus of 308795 raw words and 3834 sentences\n",
      "2020-03-11 11:33:45,530 : INFO : Loading a fresh vocabulary\n",
      "2020-03-11 11:33:45,532 : INFO : effective_min_count=40 retains 38 unique words (57% of original 66, drops 28)\n",
      "2020-03-11 11:33:45,533 : INFO : effective_min_count=40 leaves 308761 word corpus (99% of original 308795, drops 34)\n",
      "2020-03-11 11:33:45,534 : INFO : deleting the raw counts dictionary of 66 items\n",
      "2020-03-11 11:33:45,535 : INFO : sample=0.0001 downsamples 38 most-common words\n",
      "2020-03-11 11:33:45,537 : INFO : downsampling leaves estimated 16781 word corpus (5.4% of prior 308761)\n",
      "2020-03-11 11:33:45,540 : INFO : estimated required memory for 38 words and 1000 dimensions: 323000 bytes\n",
      "2020-03-11 11:33:45,541 : INFO : resetting layer weights\n",
      "2020-03-11 11:33:45,563 : INFO : training model with 4 workers on 38 vocabulary and 1000 features, using sg=0 hs=0 sample=0.0001 negative=5 window=10\n",
      "2020-03-11 11:33:45,628 : INFO : worker thread finished; awaiting finish of 3 more threads\n",
      "2020-03-11 11:33:45,629 : INFO : worker thread finished; awaiting finish of 2 more threads\n",
      "2020-03-11 11:33:45,630 : INFO : worker thread finished; awaiting finish of 1 more threads\n",
      "2020-03-11 11:33:45,631 : INFO : worker thread finished; awaiting finish of 0 more threads\n",
      "2020-03-11 11:33:45,632 : INFO : EPOCH - 1 : training on 308795 raw words (16632 effective words) took 0.1s, 289362 effective words/s\n",
      "2020-03-11 11:33:45,691 : INFO : worker thread finished; awaiting finish of 3 more threads\n",
      "2020-03-11 11:33:45,692 : INFO : worker thread finished; awaiting finish of 2 more threads\n",
      "2020-03-11 11:33:45,692 : INFO : worker thread finished; awaiting finish of 1 more threads\n",
      "2020-03-11 11:33:45,693 : INFO : worker thread finished; awaiting finish of 0 more threads\n",
      "2020-03-11 11:33:45,694 : INFO : EPOCH - 2 : training on 308795 raw words (16851 effective words) took 0.1s, 326824 effective words/s\n",
      "2020-03-11 11:33:45,748 : INFO : worker thread finished; awaiting finish of 3 more threads\n",
      "2020-03-11 11:33:45,749 : INFO : worker thread finished; awaiting finish of 2 more threads\n",
      "2020-03-11 11:33:45,750 : INFO : worker thread finished; awaiting finish of 1 more threads\n",
      "2020-03-11 11:33:45,751 : INFO : worker thread finished; awaiting finish of 0 more threads\n",
      "2020-03-11 11:33:45,752 : INFO : EPOCH - 3 : training on 308795 raw words (16964 effective words) took 0.1s, 337837 effective words/s\n",
      "2020-03-11 11:33:45,808 : INFO : worker thread finished; awaiting finish of 3 more threads\n",
      "2020-03-11 11:33:45,810 : INFO : worker thread finished; awaiting finish of 2 more threads\n",
      "2020-03-11 11:33:45,810 : INFO : worker thread finished; awaiting finish of 1 more threads\n",
      "2020-03-11 11:33:45,811 : INFO : worker thread finished; awaiting finish of 0 more threads\n",
      "2020-03-11 11:33:45,811 : INFO : EPOCH - 4 : training on 308795 raw words (16977 effective words) took 0.1s, 310529 effective words/s\n",
      "2020-03-11 11:33:45,868 : INFO : worker thread finished; awaiting finish of 3 more threads\n",
      "2020-03-11 11:33:45,870 : INFO : worker thread finished; awaiting finish of 2 more threads\n",
      "2020-03-11 11:33:45,871 : INFO : worker thread finished; awaiting finish of 1 more threads\n",
      "2020-03-11 11:33:45,872 : INFO : worker thread finished; awaiting finish of 0 more threads\n",
      "2020-03-11 11:33:45,872 : INFO : EPOCH - 5 : training on 308795 raw words (16904 effective words) took 0.1s, 303616 effective words/s\n",
      "2020-03-11 11:33:45,873 : INFO : training on a 1543975 raw words (84328 effective words) took 0.3s, 272868 effective words/s\n",
      "2020-03-11 11:33:45,875 : INFO : saving Word2Vec object under wv_tweet, separately None\n",
      "2020-03-11 11:33:45,880 : INFO : not storing attribute vectors_norm\n",
      "2020-03-11 11:33:45,883 : INFO : not storing attribute cum_table\n",
      "2020-03-11 11:33:45,898 : INFO : saved wv_tweet\n"
     ]
    }
   ],
   "source": [
    "# Apply word2vec to train the model\n",
    "from gensim.models import word2vec\n",
    "\n",
    "model = word2vec.Word2Vec(words_train, workers=num_workers, size=num_features, \n",
    "                          min_count = min_word_count, window = context, \n",
    "                          sample = downsampling)\n",
    "model_name = \"wv_tweet\"\n",
    "model.save(model_name)"
   ]
  },
  {
   "cell_type": "code",
   "execution_count": 35,
   "metadata": {},
   "outputs": [],
   "source": [
    "# Function to average all word vectors in a paragraph\n",
    "def featureVecMethod(words, model, num_features):\n",
    "    # Pre-initialising empty numpy array for speed\n",
    "    featureVec = np.zeros(num_features,dtype=\"float32\")\n",
    "    nwords = 0\n",
    "    \n",
    "    #Converting Index2Word which is a list to a set for better speed in the execution.\n",
    "    index2word_set = set(model.wv.index2word)\n",
    "    \n",
    "    for word in  words:\n",
    "        if word in index2word_set:\n",
    "            nwords = nwords + 1\n",
    "            featureVec = np.add(featureVec,model[word])\n",
    "    \n",
    "    # Dividing the result by number of words to get average\n",
    "    featureVec = np.divide(featureVec, nwords)\n",
    "    return featureVec"
   ]
  },
  {
   "cell_type": "code",
   "execution_count": 36,
   "metadata": {},
   "outputs": [],
   "source": [
    "# Function for calculating the average feature vector\n",
    "def getAvgFeatureVecs(reviews, model, num_features):\n",
    "    counter = 0\n",
    "    reviewFeatureVecs = np.zeros((len(reviews),num_features),dtype=\"float32\")\n",
    "    for review in reviews:\n",
    "        # Printing a status message every 1000th review\n",
    "        if counter%1000 == 0:\n",
    "            print(\"Review %d of %d\"%(counter,len(reviews)))\n",
    "            \n",
    "        reviewFeatureVecs[counter] = featureVecMethod(review, model, num_features)\n",
    "        counter = counter+1\n",
    "        \n",
    "    return reviewFeatureVecs"
   ]
  },
  {
   "cell_type": "markdown",
   "metadata": {},
   "source": [
    "### Obtain feature representation based on the embedding model"
   ]
  },
  {
   "cell_type": "code",
   "execution_count": 44,
   "metadata": {
    "scrolled": true
   },
   "outputs": [
    {
     "name": "stdout",
     "output_type": "stream",
     "text": [
      "Review 0 of 3834\n"
     ]
    },
    {
     "name": "stderr",
     "output_type": "stream",
     "text": [
      "/Users/anweshcr7/anaconda3/lib/python3.7/site-packages/ipykernel_launcher.py:8: DeprecationWarning: Call to deprecated `wv` (Attribute will be removed in 4.0.0, use self instead).\n",
      "  \n"
     ]
    },
    {
     "name": "stdout",
     "output_type": "stream",
     "text": [
      "Review 1000 of 3834\n",
      "Review 2000 of 3834\n",
      "Review 3000 of 3834\n",
      "Review 0 of 784\n"
     ]
    }
   ],
   "source": [
    "# Pass glove_model for external corpus\n",
    "# wv_tweet for \n",
    "\n",
    "trainDataVecs=getAvgFeatureVecs(words_train, glove_model, 100)\n",
    "testDataVecs=getAvgFeatureVecs(words_test, glove_model, 100)"
   ]
  },
  {
   "cell_type": "code",
   "execution_count": 45,
   "metadata": {},
   "outputs": [
    {
     "data": {
      "text/plain": [
       "RandomForestClassifier(bootstrap=True, class_weight=None, criterion='gini',\n",
       "                       max_depth=None, max_features='auto', max_leaf_nodes=None,\n",
       "                       min_impurity_decrease=0.0, min_impurity_split=None,\n",
       "                       min_samples_leaf=1, min_samples_split=2,\n",
       "                       min_weight_fraction_leaf=0.0, n_estimators=100,\n",
       "                       n_jobs=None, oob_score=False, random_state=None,\n",
       "                       verbose=0, warm_start=False)"
      ]
     },
     "execution_count": 45,
     "metadata": {},
     "output_type": "execute_result"
    }
   ],
   "source": [
    "from sklearn.ensemble import RandomForestClassifier\n",
    "forest = RandomForestClassifier(n_estimators=100)\n",
    "forest.fit(trainDataVecs, y_train)"
   ]
  },
  {
   "cell_type": "markdown",
   "metadata": {
    "colab_type": "text",
    "id": "bMFA8xOXgRJ1"
   },
   "source": [
    "## Evaluation metrics"
   ]
  },
  {
   "cell_type": "code",
   "execution_count": 47,
   "metadata": {
    "colab": {},
    "colab_type": "code",
    "id": "SD-jt7gzgXIh",
    "scrolled": false
   },
   "outputs": [
    {
     "name": "stdout",
     "output_type": "stream",
     "text": [
      "              precision    recall  f1-score   support\n",
      "\n",
      "           0       0.66      0.56      0.61       473\n",
      "           1       0.46      0.55      0.50       311\n",
      "\n",
      "    accuracy                           0.56       784\n",
      "   macro avg       0.56      0.56      0.55       784\n",
      "weighted avg       0.58      0.56      0.56       784\n",
      "\n",
      "Accuracy: 0.5599489795918368\n"
     ]
    }
   ],
   "source": [
    "from sklearn.metrics import classification_report, confusion_matrix, accuracy_score\n",
    "\n",
    "pred = forest.predict(testDataVecs)\n",
    "print(classification_report(y_test,pred))\n",
    "print(\"Accuracy:\", accuracy_score(y_test, pred))"
   ]
  },
  {
   "cell_type": "code",
   "execution_count": 49,
   "metadata": {},
   "outputs": [
    {
     "data": {
      "text/plain": [
       "{'C': 10, 'gamma': 1}"
      ]
     },
     "execution_count": 49,
     "metadata": {},
     "output_type": "execute_result"
    }
   ],
   "source": [
    "from sklearn import svm \n",
    "from sklearn.model_selection import GridSearchCV\n",
    "\n",
    "def svc_param_selection(X, y, nfolds):\n",
    "    Cs = [0.001, 0.01, 0.1, 1, 10]\n",
    "    gammas = [0.001, 0.01, 0.1, 1]\n",
    "    param_grid = {'C': Cs, 'gamma' : gammas}\n",
    "    grid_search = GridSearchCV(svm.SVC(kernel='rbf'), param_grid, cv=nfolds)\n",
    "    grid_search.fit(X, y)\n",
    "    grid_search.best_params_\n",
    "    return grid_search.best_params_\n",
    "\n",
    "svc_param_selection(trainDataVecs, y_train, 10)"
   ]
  },
  {
   "cell_type": "code",
   "execution_count": 55,
   "metadata": {},
   "outputs": [
    {
     "name": "stdout",
     "output_type": "stream",
     "text": [
      "0.5803571428571429\n",
      "              precision    recall  f1-score   support\n",
      "\n",
      "           0       0.69      0.56      0.62       473\n",
      "           1       0.48      0.62      0.54       311\n",
      "\n",
      "    accuracy                           0.58       784\n",
      "   macro avg       0.58      0.59      0.58       784\n",
      "weighted avg       0.60      0.58      0.58       784\n",
      "\n"
     ]
    }
   ],
   "source": [
    "from sklearn import metrics\n",
    "\n",
    "clf = svm.SVC(C=10, gamma = 1, kernel = 'rbf')\n",
    "clf.fit(trainDataVecs, y_train)\n",
    "y_pred = clf.predict(testDataVecs)\n",
    "print(metrics.accuracy_score(y_test, y_pred))\n",
    "print(metrics.classification_report(y_test, y_pred))"
   ]
  },
  {
   "cell_type": "code",
   "execution_count": 56,
   "metadata": {},
   "outputs": [
    {
     "data": {
      "image/png": "[encoded data removed]",
      "text/plain": [
       "<Figure size 432x288 with 2 Axes>"
      ]
     },
     "metadata": {
      "needs_background": "light"
     },
     "output_type": "display_data"
    }
   ],
   "source": [
    "def plotCM(cm):\n",
    "    ax = plt.subplot()\n",
    "    sns.heatmap(cm, annot=True, ax = ax, fmt=\"d\"); #annot=True to annotate cells\n",
    "\n",
    "    # labels, title and ticks\n",
    "    ax.set_xlabel('Predicted labels')\n",
    "    ax.set_ylabel('True labels')\n",
    "    ax.set_title('Confusion Matrix')\n",
    "    ax.xaxis.set_ticklabels(['Irony', 'Non-Irony']); ax.yaxis.set_ticklabels(['Irony', 'Non-Irony']);\n",
    "\n",
    "svm_cm = confusion_matrix(y_test, y_pred)\n",
    "plotCM(svm_cm)"
   ]
  },
  {
   "cell_type": "code",
   "execution_count": null,
   "metadata": {},
   "outputs": [],
   "source": []
  }
 ],
 "metadata": {
  "colab": {
   "name": "_Konigle_Challenge_NLP_Project.ipynb",
   "provenance": [],
   "toc_visible": true
  },
  "kernelspec": {
   "display_name": "Python 3",
   "language": "python",
   "name": "python3"
  },
  "language_info": {
   "codemirror_mode": {
    "name": "ipython",
    "version": 3
   },
   "file_extension": ".py",
   "mimetype": "text/x-python",
   "name": "python",
   "nbconvert_exporter": "python",
   "pygments_lexer": "ipython3",
   "version": "3.7.4"
  }
 },
 "nbformat": 4,
 "nbformat_minor": 1
}
